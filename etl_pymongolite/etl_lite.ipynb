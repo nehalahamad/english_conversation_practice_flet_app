{
 "cells": [
  {
   "cell_type": "code",
   "execution_count": 8,
   "metadata": {},
   "outputs": [],
   "source": [
    "from pymongolite import MongoClient\n",
    "import json, random"
   ]
  },
  {
   "cell_type": "code",
   "execution_count": 4,
   "metadata": {},
   "outputs": [],
   "source": [
    "my_db_dir = r\"C:\\ZMyCodes\\english_conversation_practice_flet_app\\src\\assets\"\n",
    "client = MongoClient(dirpath=my_db_dir, database=\"quizzdb\")\n",
    "db = client.get_default_database()\n"
   ]
  },
  {
   "cell_type": "code",
   "execution_count": null,
   "metadata": {},
   "outputs": [],
   "source": [
    "\n",
    "files = [\n",
    "    (r\"src\\assets\\docker_question_new.json\", \"docker_quizz\"),\n",
    "    (r\"src\\assets\\git_question_new.json\", \"git_quizz\"),\n",
    "    (r\"src\\assets\\kubernetes_question_new.json\", \"kubernetes_quizz\"),\n",
    "    (r\"src\\assets\\linux_question_new.json\", \"linux_quizz\"),\n",
    "    (r\"src\\assets\\mongodb_question_new.json\", \"mongodb_quizz\"),\n",
    "    (r\"src\\assets\\regex_python_question_new.json\", \"regex_python_quizz\")\n",
    "]\n",
    "\n",
    "for file_name, collection_name in files:\n",
    "    with open(file_name, 'r', encoding='utf-8') as file:\n",
    "        questions_json = json.load(file)\n",
    "    \n",
    "    collection = db.create_collection(collection_name)\n",
    "    collection.insert_many(questions_json)\n",
    "\n",
    "client.close()"
   ]
  },
  {
   "cell_type": "code",
   "execution_count": 9,
   "metadata": {},
   "outputs": [],
   "source": [
    "collection_name = \"docker_quizz\"  # Replace with your desired collection name\n",
    "collection = db.get_collection(collection_name)\n",
    "\n",
    "# random_records = collection.aggregate([{\"$sample\": {\"size\": 5}}])\n",
    "\n",
    "# for record in random_records:\n",
    "#     print(record)"
   ]
  },
  {
   "cell_type": "code",
   "execution_count": 13,
   "metadata": {},
   "outputs": [
    {
     "ename": "AttributeError",
     "evalue": "'Cursor' object has no attribute 'skip'",
     "output_type": "error",
     "traceback": [
      "\u001b[31m---------------------------------------------------------------------------\u001b[39m",
      "\u001b[31mAttributeError\u001b[39m                            Traceback (most recent call last)",
      "\u001b[36mCell\u001b[39m\u001b[36m \u001b[39m\u001b[32mIn[13]\u001b[39m\u001b[32m, line 2\u001b[39m\n\u001b[32m      1\u001b[39m \u001b[38;5;66;03m# Get 5 random records using find() with limit\u001b[39;00m\n\u001b[32m----> \u001b[39m\u001b[32m2\u001b[39m random_records = \u001b[38;5;28mlist\u001b[39m(\u001b[43mcollection\u001b[49m\u001b[43m.\u001b[49m\u001b[43mfind\u001b[49m\u001b[43m(\u001b[49m\u001b[43m{\u001b[49m\u001b[43m}\u001b[49m\u001b[43m)\u001b[49m\u001b[43m.\u001b[49m\u001b[43mskip\u001b[49m(random.randint(\u001b[32m0\u001b[39m, collection.count() - \u001b[32m5\u001b[39m)).limit(\u001b[32m5\u001b[39m))\n\u001b[32m      4\u001b[39m \u001b[38;5;66;03m# Print each record\u001b[39;00m\n\u001b[32m      5\u001b[39m \u001b[38;5;28;01mfor\u001b[39;00m record \u001b[38;5;129;01min\u001b[39;00m random_records:\n",
      "\u001b[31mAttributeError\u001b[39m: 'Cursor' object has no attribute 'skip'"
     ]
    }
   ],
   "source": [
    "# Get 5 random records using find() with limit\n",
    "random_records = list(collection.find({}).skip(random.randint(0, collection.count() - 5)).limit(5))\n",
    "\n",
    "# Print each record\n",
    "for record in random_records:\n",
    "    print(json.dumps(record, indent=2))\n"
   ]
  },
  {
   "cell_type": "code",
   "execution_count": 16,
   "metadata": {},
   "outputs": [
    {
     "data": {
      "text/plain": [
       "{'QN': '1',\n",
       " 'type': 'mcq',\n",
       " 'question': 'What is Docker primarily used for?',\n",
       " 'options': {'A': 'Virtualization',\n",
       "  'B': 'Containerization',\n",
       "  'C': 'Networking',\n",
       "  'D': 'Data Storage'},\n",
       " 'answer': 'B',\n",
       " 'explanation': 'Docker is primarily used for containerization, which allows applications to be packaged with their dependencies and run consistently across different environments.',\n",
       " 'topic': 'Docker Basics',\n",
       " '_id': ObjectId(18299874-ac1b-49d3-b999-6d9da70ecb12)}"
      ]
     },
     "execution_count": 16,
     "metadata": {},
     "output_type": "execute_result"
    }
   ],
   "source": [
    "collection.find_one({})"
   ]
  },
  {
   "cell_type": "code",
   "execution_count": null,
   "metadata": {},
   "outputs": [],
   "source": []
  }
 ],
 "metadata": {
  "kernelspec": {
   "display_name": ".venv",
   "language": "python",
   "name": "python3"
  },
  "language_info": {
   "codemirror_mode": {
    "name": "ipython",
    "version": 3
   },
   "file_extension": ".py",
   "mimetype": "text/x-python",
   "name": "python",
   "nbconvert_exporter": "python",
   "pygments_lexer": "ipython3",
   "version": "3.11.1"
  }
 },
 "nbformat": 4,
 "nbformat_minor": 2
}
