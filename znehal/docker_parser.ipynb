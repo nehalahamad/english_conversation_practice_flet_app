{
 "cells": [
  {
   "cell_type": "code",
   "execution_count": 11,
   "metadata": {},
   "outputs": [],
   "source": [
    "import json"
   ]
  },
  {
   "cell_type": "code",
   "execution_count": 12,
   "metadata": {},
   "outputs": [
    {
     "name": "stdout",
     "output_type": "stream",
     "text": [
      "139\n"
     ]
    }
   ],
   "source": [
    "file_path = r\"C:\\ZMyCodes\\english_conversation_practice_flet_app\\znehal\\docker_question.json\"\n",
    "with open(file_path, 'r') as file:\n",
    "    data = json.load(file)\n",
    "print(len(data))"
   ]
  },
  {
   "cell_type": "code",
   "execution_count": 18,
   "metadata": {},
   "outputs": [
    {
     "name": "stdout",
     "output_type": "stream",
     "text": [
      "102\n"
     ]
    }
   ],
   "source": [
    "question_list = []\n",
    "temp = set()\n",
    "i = 1\n",
    "for question in data:\n",
    "    question[\"QN\"] = str(i)\n",
    "    question[\"topic\"] = question[\"type\"]\n",
    "    question[\"type\"] = \"mcq\"\n",
    "    question['answer'] = question['options'][question['answer']]\n",
    "    tt = json.dumps({\"q\":question[\"question\"], \"opt\":question[\"options\"]})\n",
    "    if tt not in temp:\n",
    "        temp.add(tt)\n",
    "        question_list.append(question)\n",
    "        i += 1\n",
    "    # else:\n",
    "    #     print(question[\"question\"])\n",
    "\n",
    "print(len(question_list))\n",
    "        "
   ]
  },
  {
   "cell_type": "code",
   "execution_count": 20,
   "metadata": {},
   "outputs": [],
   "source": [
    "output_file_path = r\"C:\\ZMyCodes\\english_conversation_practice_flet_app\\znehal\\docker_question_new.json\"\n",
    "\n",
    "with open(output_file_path, 'w') as output_file:\n",
    "    json.dump(question_list, output_file, indent=4)"
   ]
  },
  {
   "cell_type": "code",
   "execution_count": null,
   "metadata": {},
   "outputs": [],
   "source": []
  }
 ],
 "metadata": {
  "kernelspec": {
   "display_name": "Python 3",
   "language": "python",
   "name": "python3"
  },
  "language_info": {
   "codemirror_mode": {
    "name": "ipython",
    "version": 3
   },
   "file_extension": ".py",
   "mimetype": "text/x-python",
   "name": "python",
   "nbconvert_exporter": "python",
   "pygments_lexer": "ipython3",
   "version": "3.11.1"
  }
 },
 "nbformat": 4,
 "nbformat_minor": 2
}
