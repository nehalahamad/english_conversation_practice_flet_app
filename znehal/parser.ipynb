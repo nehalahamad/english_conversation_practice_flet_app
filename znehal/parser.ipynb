{
 "cells": [
  {
   "cell_type": "code",
   "execution_count": 20,
   "metadata": {},
   "outputs": [],
   "source": [
    "import json"
   ]
  },
  {
   "cell_type": "code",
   "execution_count": null,
   "metadata": {},
   "outputs": [],
   "source": [
    "import pdfplumber\n",
    "\n",
    "# Open the PDF file\n",
    "with pdfplumber.open('EnglishConversationPractice-pdfcoffee.pdf') as pdf:\n",
    "    text = \"\"\n",
    "    # Iterate through each page and extract text\n",
    "    for page in pdf.pages:\n",
    "        text += page.extract_text()\n",
    "    \n",
    "    # Print or process the text (assuming it's UTF-8 encoded)\n",
    "    \n",
    "with open(file=\"Output_1.txt\", mode=\"w\", encoding='utf-8') as text_file:\n",
    "    text_file.write(text)"
   ]
  },
  {
   "cell_type": "code",
   "execution_count": null,
   "metadata": {},
   "outputs": [],
   "source": []
  },
  {
   "cell_type": "markdown",
   "metadata": {},
   "source": [
    "==================================="
   ]
  },
  {
   "cell_type": "code",
   "execution_count": 77,
   "metadata": {},
   "outputs": [],
   "source": [
    "chapter = '''\n",
    "50. SENDING AND RECEIVING LETTERS / CONVERSATIONS\n",
    "'''"
   ]
  },
  {
   "cell_type": "code",
   "execution_count": 78,
   "metadata": {},
   "outputs": [
    {
     "name": "stdout",
     "output_type": "stream",
     "text": [
      "[{'title': 'Conversation A', 'lines': ['S1. Are you writing a letter?', \"S2. Yes. I'm to my family.\", 'S1. Do you write letters very often?', 'S2. Yes. I write five or six letters a week.']}, {'title': 'Conversation B', 'lines': ['S1. Do You write letters very often', 'S2. No. I hate to write letters.', 'S1. It takes a lot of time.', 'S2. It sure does.']}, {'title': 'Conversation C', 'lines': ['S1. Did Robert get a letter?', 'S2. He got one yesterday.', 'S1. Does he get many letters?', 'S2. Yes. He gets some every day.']}, {'title': 'Conversation D', 'lines': ['S1. Charles wrote me a long letter.', 'S2. When did he write to you?', 'S1. He sent the letter to me about a week ago.', \"S2. He hasn't even sent me a postcard yet!\"]}, {'title': 'Conversation E', 'lines': [\"S1. We wrote to Mary's sister last week.\", 'S2. Has she written you yet?', \"S1. No, she hasn't.\", 'S2. She wrote me a few days ago.']}]\n"
     ]
    }
   ],
   "source": [
    "import re, json\n",
    "\n",
    "conversations = '''\n",
    "Conversation A\n",
    "S1. Are you writing a letter?\n",
    "S2. Yes. I'm to my family.\n",
    "S1. Do you write letters very often?\n",
    "S2. Yes. I write five or six letters a week.\n",
    "Conversation B\n",
    "S1. Do You write letters very often\n",
    "S2. No. I hate to write letters.\n",
    "S1. It takes a lot of time.\n",
    "S2. It sure does.\n",
    "Conversation C\n",
    "S1. Did Robert get a letter?\n",
    "S2. He got one yesterday.\n",
    "S1. Does he get many letters?\n",
    "S2. Yes. He gets some every day.\n",
    "Conversation D\n",
    "S1. Charles wrote me a long letter.\n",
    "S2. When did he write to you?\n",
    "S1. He sent the letter to me about a week ago.\n",
    "S2. He hasn't even sent me a postcard yet!\n",
    "Conversation E\n",
    "S1. We wrote to Mary's sister last week.\n",
    "S2. Has she written you yet?\n",
    "S1. No, she hasn't.\n",
    "S2. She wrote me a few days ago.\n",
    "'''\n",
    "\n",
    "\n",
    "# res = re.findall(r'(?is)([0-9]+[a-zA-Z \\-&>,]+)', conversations)\n",
    "\n",
    "conversations = re.split(r'(?=Conversation\\b)', conversations.strip())\n",
    "\n",
    "\n",
    "conversations_list = []\n",
    "for conversation in conversations:\n",
    "    if conversation.strip() != '':\n",
    "        conve_list = conversation.strip().split('\\n')\n",
    "\n",
    "        my_dict = {\"title\":\"\", \"lines\":[]}\n",
    "\n",
    "        for i in range(len(conve_list)):\n",
    "            if i == 0:\n",
    "                my_dict[\"title\"] = conve_list[i]\n",
    "            else:\n",
    "                my_dict[\"lines\"].append(conve_list[i])\n",
    "        conversations_list.append(my_dict)\n",
    "\n",
    "with open(\"data/conversations.json\", 'w', encoding='utf-8') as file:\n",
    "    json.dump(conversations_list, file, indent=4)\n",
    "\n",
    "print(conversations_list)\n"
   ]
  },
  {
   "cell_type": "markdown",
   "metadata": {},
   "source": [
    "=================================="
   ]
  },
  {
   "cell_type": "code",
   "execution_count": 79,
   "metadata": {},
   "outputs": [
    {
     "data": {
      "text/plain": [
       "',\\n'"
      ]
     },
     "execution_count": 79,
     "metadata": {},
     "output_type": "execute_result"
    }
   ],
   "source": [
    "''',\n",
    "'''"
   ]
  },
  {
   "cell_type": "code",
   "execution_count": 80,
   "metadata": {},
   "outputs": [],
   "source": [
    "exercises = [\n",
    "\n",
    "]\n",
    "\n",
    "exercises_list = []\n",
    "\n",
    "for exercise in exercises:\n",
    "\n",
    "    exercise_list = exercise.strip().split('\\n')\n",
    "\n",
    "    my_dict = {\n",
    "        \"title\": \"\",\n",
    "        \"example_sentence\": \"\",\n",
    "        \"lines\": []\n",
    "    }\n",
    "    for i in range(len(exercise_list)):\n",
    "        if i == 0:\n",
    "            my_dict[\"title\"] = exercise_list[i].strip()\n",
    "        elif i == 1:\n",
    "            my_dict[\"example_sentence\"] = exercise_list[i].strip()\n",
    "        else:\n",
    "            word, sentence = exercise_list[i].split('\\t')\n",
    "            my_dict[\"lines\"].append({\"word\":word, \"sentence\": sentence})\n",
    "    \n",
    "    exercises_list.append(my_dict)\n",
    "\n",
    "\n",
    "with open(\"data/exercise.json\", 'w', encoding='utf-8') as file:\n",
    "    json.dump(exercises_list, file, indent=4)"
   ]
  },
  {
   "cell_type": "code",
   "execution_count": 81,
   "metadata": {},
   "outputs": [],
   "source": [
    "\n",
    "output = [\n",
    "    {\n",
    "        \"chapter\": chapter.strip(),\n",
    "        \"conversations\": conversations_list,\n",
    "        \"exercises\": exercises_list\n",
    "    }\n",
    "]\n",
    "\n",
    "with open(\"data/output.json\", 'w', encoding='utf-8') as file:\n",
    "    json.dump(output, file, indent=4)"
   ]
  },
  {
   "cell_type": "code",
   "execution_count": 82,
   "metadata": {},
   "outputs": [
    {
     "name": "stdout",
     "output_type": "stream",
     "text": [
      "49\n",
      "50\n"
     ]
    }
   ],
   "source": [
    "file_name = \"english_conversation_practice.json\"\n",
    "with open(r\"C:\\ZMyCodes\\english_conversation_practice_flet_app\\src\\assets\\english_conversation_practice.json\", 'r', encoding='utf-8') as file:\n",
    "    english_conversation_practice_list = json.load(file)\n",
    "\n",
    "print(len(english_conversation_practice_list))\n",
    "\n",
    "with open(r\"C:\\ZMyCodes\\english_conversation_practice_flet_app\\znehal\\data\\output.json\", 'r', encoding='utf-8') as file:\n",
    "    output_list = json.load(file)\n",
    "\n",
    "english_conversation_practice_list.append(output_list[0])\n",
    "print(len(english_conversation_practice_list))\n",
    "\n",
    "with open(r\"C:\\ZMyCodes\\english_conversation_practice_flet_app\\src\\assets\\english_conversation_practice.json\", 'w', encoding='utf-8') as file:\n",
    "    json.dump(english_conversation_practice_list, file, indent=4)\n",
    "\n"
   ]
  },
  {
   "cell_type": "code",
   "execution_count": null,
   "metadata": {},
   "outputs": [],
   "source": []
  },
  {
   "cell_type": "code",
   "execution_count": null,
   "metadata": {},
   "outputs": [],
   "source": []
  },
  {
   "cell_type": "code",
   "execution_count": null,
   "metadata": {},
   "outputs": [],
   "source": []
  }
 ],
 "metadata": {
  "kernelspec": {
   "display_name": "Python 3",
   "language": "python",
   "name": "python3"
  },
  "language_info": {
   "codemirror_mode": {
    "name": "ipython",
    "version": 3
   },
   "file_extension": ".py",
   "mimetype": "text/x-python",
   "name": "python",
   "nbconvert_exporter": "python",
   "pygments_lexer": "ipython3",
   "version": "3.11.1"
  }
 },
 "nbformat": 4,
 "nbformat_minor": 2
}
