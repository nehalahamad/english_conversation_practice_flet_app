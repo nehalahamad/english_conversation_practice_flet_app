{
 "cells": [
  {
   "cell_type": "code",
   "execution_count": 20,
   "metadata": {},
   "outputs": [],
   "source": [
    "import json"
   ]
  },
  {
   "cell_type": "code",
   "execution_count": null,
   "metadata": {},
   "outputs": [],
   "source": [
    "import pdfplumber\n",
    "\n",
    "# Open the PDF file\n",
    "with pdfplumber.open('EnglishConversationPractice-pdfcoffee.pdf') as pdf:\n",
    "    text = \"\"\n",
    "    # Iterate through each page and extract text\n",
    "    for page in pdf.pages:\n",
    "        text += page.extract_text()\n",
    "    \n",
    "    # Print or process the text (assuming it's UTF-8 encoded)\n",
    "    \n",
    "with open(file=\"Output_1.txt\", mode=\"w\", encoding='utf-8') as text_file:\n",
    "    text_file.write(text)"
   ]
  },
  {
   "cell_type": "code",
   "execution_count": null,
   "metadata": {},
   "outputs": [],
   "source": []
  },
  {
   "cell_type": "markdown",
   "metadata": {},
   "source": [
    "==================================="
   ]
  },
  {
   "cell_type": "code",
   "execution_count": 107,
   "metadata": {},
   "outputs": [],
   "source": [
    "chapter = '''\n",
    "55. TALKING ABOUT THE WEATHER / CONVERSATIONS\n",
    "'''"
   ]
  },
  {
   "cell_type": "code",
   "execution_count": 108,
   "metadata": {},
   "outputs": [
    {
     "name": "stdout",
     "output_type": "stream",
     "text": [
      "[{'title': 'Conversation A', 'lines': ['S1. It was hot yesterday.', \"S2. But it's quite cool today.\", \"S1. Yes. I'm wearing sweater under my coat.\", \"S2. I'm going to put on a jacket.\"]}, {'title': 'Conversation B', 'lines': [\"S1. It's freezing today!\", \"S2. It's worse than yesterday.\", 'S1. How cold is it?', \"S2. It's ten below.\"]}, {'title': 'Conversation C', 'lines': ['S1. What cold weather this is!', 'S2. It certainly is.', \"S3. What's the temperature?\", \"S4. It's five above.\"]}, {'title': 'Conversation D', 'lines': [\"S1. You've seen a hurricane, haven't you?\", 'S2. Once, a long time ago.', 'S1. Does it ever snow in your country?', 'S2. Only a few times a year.']}, {'title': 'Conversation E', 'lines': ['S1. Do you like the weather in this part of the country?', \"S2. Not really, but I'm adjusted to it now.\", 'S1. Is the weather different in your Country', 'S2. Yes: It never gets as cold there as it does here.']}]\n"
     ]
    }
   ],
   "source": [
    "import re, json\n",
    "\n",
    "conversations = '''\n",
    "Conversation A\n",
    "S1. It was hot yesterday.\n",
    "S2. But it's quite cool today.\n",
    "S1. Yes. I'm wearing sweater under my coat.\n",
    "S2. I'm going to put on a jacket.\n",
    "Conversation B\n",
    "S1. It's freezing today!\n",
    "S2. It's worse than yesterday.\n",
    "S1. How cold is it?\n",
    "S2. It's ten below.\n",
    "Conversation C\n",
    "S1. What cold weather this is!\n",
    "S2. It certainly is.\n",
    "S3. What's the temperature?\n",
    "S4. It's five above.\n",
    "Conversation D\n",
    "S1. You've seen a hurricane, haven't you?\n",
    "S2. Once, a long time ago.\n",
    "S1. Does it ever snow in your country?\n",
    "S2. Only a few times a year.\n",
    "Conversation E\n",
    "S1. Do you like the weather in this part of the country?\n",
    "S2. Not really, but I'm adjusted to it now.\n",
    "S1. Is the weather different in your Country\n",
    "S2. Yes: It never gets as cold there as it does here.\n",
    "'''\n",
    "\n",
    "\n",
    "# res = re.findall(r'(?is)([0-9]+[a-zA-Z \\-&>,]+)', conversations)\n",
    "\n",
    "conversations = re.split(r'(?=Conversation\\b)', conversations.strip())\n",
    "\n",
    "\n",
    "conversations_list = []\n",
    "for conversation in conversations:\n",
    "    if conversation.strip() != '':\n",
    "        conve_list = conversation.strip().split('\\n')\n",
    "\n",
    "        my_dict = {\"title\":\"\", \"lines\":[]}\n",
    "\n",
    "        for i in range(len(conve_list)):\n",
    "            if i == 0:\n",
    "                my_dict[\"title\"] = conve_list[i]\n",
    "            else:\n",
    "                my_dict[\"lines\"].append(conve_list[i])\n",
    "        conversations_list.append(my_dict)\n",
    "\n",
    "with open(\"data/conversations.json\", 'w', encoding='utf-8') as file:\n",
    "    json.dump(conversations_list, file, indent=4)\n",
    "\n",
    "print(conversations_list)\n"
   ]
  },
  {
   "cell_type": "markdown",
   "metadata": {},
   "source": [
    "=================================="
   ]
  },
  {
   "cell_type": "code",
   "execution_count": 109,
   "metadata": {},
   "outputs": [
    {
     "data": {
      "text/plain": [
       "',\\n'"
      ]
     },
     "execution_count": 109,
     "metadata": {},
     "output_type": "execute_result"
    }
   ],
   "source": [
    "''',\n",
    "'''\n"
   ]
  },
  {
   "cell_type": "code",
   "execution_count": 110,
   "metadata": {},
   "outputs": [],
   "source": [
    "exercises = [\n",
    "'''\n",
    "Exercise 1 / Lines A1 and A2 /\n",
    "\n",
    "It was hot yesterday.\\t It was quite hot, wasn't it?\n",
    "It was cold yesterday.\\t It was quite cold, wasn't .it?\n",
    "It was warm yesterday.\\t It was quite warm, wasn't it\n",
    "It was cool yesterday.\\t It was quite cool, wasn't it?\n",
    "It was chilly yesterday.\\t It was quite chilly, wasn't it?\n",
    "It was damp yesterday.\\t It was quite damp, wasn't it?\n",
    "''',\n",
    "'''\n",
    "Exercise 2 / Line A4 /\n",
    "I'm going to put on a sweater.\n",
    "a wool shirt\\t I'm going to put on a wool shirt.\n",
    "a jacket\\t I'm going to put on a jacket.\n",
    "Gloves\\t I'm going to put on gloves.\n",
    "an overcoat\\t I'm going to put on an overcoat.\n",
    "overshoes\\t I'm going to put on overshoes.\n",
    "''',\n",
    "'''\n",
    "Exercise 3 / Line B2 /\n",
    "It's worse than yesterday.\n",
    "bette\\t It's better than yesterday.\n",
    "hotter\\t It's hotter than yesterday.\n",
    "colder\\t It's colder than yesterday.\n",
    "Warmer\\t It's warmer than yesterday.\n",
    "cooler\\t It's cooler than yesterday\n",
    "''',\n",
    "'''\n",
    "Exercise 4 / Line B2 /\n",
    "\n",
    "It's worse than yesterday.\\t It's the worst day in a long time\n",
    "It's hotter than yesterday.\\t It’s, the hottest day in a long time\n",
    "It's colder than yesterday.\\t It's the coldest day in a long time.\n",
    "It's warmer than yesterday.\\t It's the warmest day in a long time.\n",
    "It's cooler than yesterday.\\t It's the coolest day in a long time.\n",
    "''',\n",
    "'''\n",
    "Exercise 5 / Line C1 /\n",
    "What cold weather this is!\n",
    "Humid\\t What humid weather this is!\n",
    "Hot\\t What hot weather this is!\n",
    "Cloudy\\t What cloudy weather this is!\n",
    "Damp\\t What damp weather this is!\n",
    "Sticky\\t What sticky weather this is!\n",
    "'''\n",
    "]\n",
    "\n",
    "exercises_list = []\n",
    "\n",
    "for exercise in exercises:\n",
    "\n",
    "    exercise_list = exercise.strip().split('\\n')\n",
    "\n",
    "    my_dict = {\n",
    "        \"title\": \"\",\n",
    "        \"example_sentence\": \"\",\n",
    "        \"lines\": []\n",
    "    }\n",
    "    for i in range(len(exercise_list)):\n",
    "        if i == 0:\n",
    "            my_dict[\"title\"] = exercise_list[i].strip()\n",
    "        elif i == 1:\n",
    "            my_dict[\"example_sentence\"] = exercise_list[i].strip()\n",
    "        else:\n",
    "            word, sentence = exercise_list[i].split('\\t')\n",
    "            my_dict[\"lines\"].append({\"word\":word, \"sentence\": sentence})\n",
    "    \n",
    "    exercises_list.append(my_dict)\n",
    "\n",
    "\n",
    "with open(\"data/exercise.json\", 'w', encoding='utf-8') as file:\n",
    "    json.dump(exercises_list, file, indent=4)"
   ]
  },
  {
   "cell_type": "code",
   "execution_count": 111,
   "metadata": {},
   "outputs": [],
   "source": [
    "\n",
    "output = [\n",
    "    {\n",
    "        \"chapter\": chapter.strip(),\n",
    "        \"conversations\": conversations_list,\n",
    "        \"exercises\": exercises_list\n",
    "    }\n",
    "]\n",
    "\n",
    "with open(\"data/output.json\", 'w', encoding='utf-8') as file:\n",
    "    json.dump(output, file, indent=4)"
   ]
  },
  {
   "cell_type": "code",
   "execution_count": 112,
   "metadata": {},
   "outputs": [
    {
     "name": "stdout",
     "output_type": "stream",
     "text": [
      "54\n",
      "55\n"
     ]
    }
   ],
   "source": [
    "file_name = \"english_conversation_practice.json\"\n",
    "with open(r\"C:\\ZMyCodes\\english_conversation_practice_flet_app\\src\\assets\\english_conversation_practice.json\", 'r', encoding='utf-8') as file:\n",
    "    english_conversation_practice_list = json.load(file)\n",
    "\n",
    "print(len(english_conversation_practice_list))\n",
    "\n",
    "with open(r\"C:\\ZMyCodes\\english_conversation_practice_flet_app\\znehal\\data\\output.json\", 'r', encoding='utf-8') as file:\n",
    "    output_list = json.load(file)\n",
    "\n",
    "english_conversation_practice_list.append(output_list[0])\n",
    "print(len(english_conversation_practice_list))\n",
    "\n",
    "with open(r\"C:\\ZMyCodes\\english_conversation_practice_flet_app\\src\\assets\\english_conversation_practice.json\", 'w', encoding='utf-8') as file:\n",
    "    json.dump(english_conversation_practice_list, file, indent=4)\n",
    "\n"
   ]
  },
  {
   "cell_type": "code",
   "execution_count": null,
   "metadata": {},
   "outputs": [],
   "source": []
  },
  {
   "cell_type": "code",
   "execution_count": null,
   "metadata": {},
   "outputs": [],
   "source": []
  },
  {
   "cell_type": "code",
   "execution_count": null,
   "metadata": {},
   "outputs": [],
   "source": []
  }
 ],
 "metadata": {
  "kernelspec": {
   "display_name": "Python 3",
   "language": "python",
   "name": "python3"
  },
  "language_info": {
   "codemirror_mode": {
    "name": "ipython",
    "version": 3
   },
   "file_extension": ".py",
   "mimetype": "text/x-python",
   "name": "python",
   "nbconvert_exporter": "python",
   "pygments_lexer": "ipython3",
   "version": "3.11.1"
  }
 },
 "nbformat": 4,
 "nbformat_minor": 2
}
