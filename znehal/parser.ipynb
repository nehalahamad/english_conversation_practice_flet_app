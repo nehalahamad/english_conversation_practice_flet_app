{
 "cells": [
  {
   "cell_type": "code",
   "execution_count": 20,
   "metadata": {},
   "outputs": [],
   "source": [
    "import json"
   ]
  },
  {
   "cell_type": "code",
   "execution_count": null,
   "metadata": {},
   "outputs": [],
   "source": [
    "import pdfplumber\n",
    "\n",
    "# Open the PDF file\n",
    "with pdfplumber.open('EnglishConversationPractice-pdfcoffee.pdf') as pdf:\n",
    "    text = \"\"\n",
    "    # Iterate through each page and extract text\n",
    "    for page in pdf.pages:\n",
    "        text += page.extract_text()\n",
    "    \n",
    "    # Print or process the text (assuming it's UTF-8 encoded)\n",
    "    \n",
    "with open(file=\"Output_1.txt\", mode=\"w\", encoding='utf-8') as text_file:\n",
    "    text_file.write(text)"
   ]
  },
  {
   "cell_type": "code",
   "execution_count": null,
   "metadata": {},
   "outputs": [],
   "source": []
  },
  {
   "cell_type": "markdown",
   "metadata": {},
   "source": [
    "==================================="
   ]
  },
  {
   "cell_type": "code",
   "execution_count": 164,
   "metadata": {},
   "outputs": [],
   "source": [
    "chapter = '''\n",
    "30.TIME AND THE CALENDAR / CONVERSATIONS\n",
    "'''"
   ]
  },
  {
   "cell_type": "code",
   "execution_count": 165,
   "metadata": {},
   "outputs": [
    {
     "name": "stdout",
     "output_type": "stream",
     "text": [
      "[{'title': 'Conversation A', 'lines': ['S1. When does February have twenty-nine clays?', 'S2. In leap year.', 'S1. How often is there a leap year?', 'S2. Every fourth year.']}, {'title': 'Conversation B', 'lines': ['S1. How many days are there in leap year?', 'S2. There are three hundred and sixty-six.', 'S1. How many weeks are there in a year?', 'S2.There are fifty-two weeks a year.']}, {'title': 'Conversation C', 'lines': ['S1. What are the seasons in this country?', 'S2. Winter, spring, summer, and fall.', 'S1. How months are there in a season?', 'S2. There are three months in each season.']}, {'title': 'Conversation D', 'lines': ['S1.Today is the first day of spring.', \"S2. I didn't realize it.\", \"S1. Aren't you glad it's here?\", \"S2. I'm always glad when winter is over.\"]}, {'title': 'Conversation E', 'lines': [\"S1.The weather is perfect today, isn't it?\", 'S2.Yes.I like this season of the year very much.', \"S1.Most people like this season best of all, don't they?\", \"S2.Well, I'm sure a lot of people do.\"]}]\n"
     ]
    }
   ],
   "source": [
    "import re, json\n",
    "\n",
    "conversations = '''\n",
    "Conversation A\n",
    "S1. When does February have twenty-nine clays?\n",
    "S2. In leap year.\n",
    "S1. How often is there a leap year?\n",
    "S2. Every fourth year.\n",
    "Conversation B\n",
    "S1. How many days are there in leap year?\n",
    "S2. There are three hundred and sixty-six.\n",
    "S1. How many weeks are there in a year?\n",
    "S2.There are fifty-two weeks a year.\n",
    "Conversation C\n",
    "S1. What are the seasons in this country?\n",
    "S2. Winter, spring, summer, and fall.\n",
    "S1. How months are there in a season?\n",
    "S2. There are three months in each season.\n",
    "Conversation D\n",
    "S1.Today is the first day of spring.\n",
    "S2. I didn't realize it.\n",
    "S1. Aren't you glad it's here?\n",
    "S2. I'm always glad when winter is over.\n",
    "Conversation E\n",
    "S1.The weather is perfect today, isn't it?\n",
    "S2.Yes.I like this season of the year very much.\n",
    "S1.Most people like this season best of all, don't they?\n",
    "S2.Well, I'm sure a lot of people do.\n",
    "'''\n",
    "\n",
    "\n",
    "# res = re.findall(r'(?is)([0-9]+[a-zA-Z \\-&>,]+)', conversations)\n",
    "\n",
    "conversations = re.split(r'(?=Conversation\\b)', conversations.strip())\n",
    "\n",
    "\n",
    "conversations_list = []\n",
    "for conversation in conversations:\n",
    "    if conversation.strip() != '':\n",
    "        conve_list = conversation.strip().split('\\n')\n",
    "\n",
    "        my_dict = {\"title\":\"\", \"lines\":[]}\n",
    "\n",
    "        for i in range(len(conve_list)):\n",
    "            if i == 0:\n",
    "                my_dict[\"title\"] = conve_list[i]\n",
    "            else:\n",
    "                my_dict[\"lines\"].append(conve_list[i])\n",
    "        conversations_list.append(my_dict)\n",
    "\n",
    "with open(\"data/conversations.json\", 'w', encoding='utf-8') as file:\n",
    "    json.dump(conversations_list, file, indent=4)\n",
    "\n",
    "print(conversations_list)\n"
   ]
  },
  {
   "cell_type": "markdown",
   "metadata": {},
   "source": [
    "=================================="
   ]
  },
  {
   "cell_type": "code",
   "execution_count": 166,
   "metadata": {},
   "outputs": [],
   "source": [
    "exercises = ['''\n",
    "Exercise 1 / Lines B1-B4, G3, C4 /\n",
    "\n",
    "How many days are there in a year?\\t There are three hundred and sixty-five.\n",
    "How many weeks are there in a year?\\t There are fifty-two.\n",
    "How many months are there in a year?\\t There are twelve.\n",
    "How many seasons are there in a year?\\t There are four\n",
    "How many months are there in a season?\\t There are three.\n",
    "How many days are there in a week?\\t There are seven\n",
    "How many days are there in June?\\t There are thirty.\n",
    "How many days are there in October?\\t There are thirty-one.\n",
    "How many years are there in a decade?\\t There are ten\n",
    "How many years are there in a century?\\t There are one hundred.\n",
    "''',\n",
    "'''\n",
    "Exercise 2 / Line D 1 /\n",
    "Today is the first day of spring.\n",
    "Yesterday\\t Yesterday was the first day of spring\n",
    "Tomorrow\\t Tomorrow .will be the first day of spring.\n",
    "Last Friday\\t Last Friday was the first day of spring.\n",
    "Next Thursday\\t Next Thursday will be the first day of spring.\n",
    "This coming Monday\\t This coming Monday will be the First day of spring.\n",
    "''',\n",
    "'''\n",
    "Exercise 3J / Line D 1 /\n",
    "Today is the first day of spring.\n",
    "summer\\t Today is the first day of summer.\n",
    "winter\\t Today is the first day of winter.\n",
    "September\\t Today is the first day of September.\n",
    "the new year\\t Today-is the first day of the new year.\n",
    "our summer vacation\\t Today is the first day or our Summer vacation.\n",
    "''',\n",
    "'''\n",
    "Exercise 4 / Line D4 /\n",
    "\n",
    "When is winter over?\\t It's over about March twenty-first.\n",
    "Are you glad then?\\t I'm always glad when winter is over.\n",
    "When is spring over?\\t It's over about June twenty-first.\n",
    "Are you sorry then?\\t I'm always sorry when spring is over.\n",
    "When is summer over?\\t It's over about September twenty-first.\n",
    "Are you glad then?\\t I'm always glad when summer is over.\n",
    "When is fall over?\\t It's over about December twenty-first.\n",
    "Are you sorry then?\\t I'm always sorry when fall is over.\n",
    "''',\n",
    "'''\n",
    "Exercise 5 / Line E1 /\n",
    "The weather is perfect today, isn't it?\n",
    "terrible\\t The weather is terrible today, isn't it?\n",
    "wonderful\\t The weather is wonderful today, isn't it?\n",
    "awful\\t The weather is awful today, isn't it?\n",
    "unusual\\t The weather is unusual today, isn't it?\n",
    "unusually nice\\t The weather is unusually nice today, isn't it?\n",
    "''',\n",
    "'''\n",
    "Exercise 6 / Line E1 /\n",
    "\n",
    "Today is very warm, isn't it?\\t Today isn't very warm, is it?\n",
    "Today is very cold, isn't it?\\t Today isn't very cold, is it?\n",
    "Today is very hot, isn't it?\\t Today isn't very hot, is it?\n",
    "Today is very cool, isn't it?\\t Today isn't very cool, is it?\n",
    "Today is very humid, isn't it?\\t Today isn't very humid, is it?\n",
    "Today is very clear, isn't it?\\t Today isn't very clear, is it?\n",
    "''',\n",
    "'''\n",
    "Exercise 7 / Line E3 /\n",
    "Most people like this season best of all, don't they?\n",
    "A lot of people\\t A lot of people like this season best of all, don't they?\n",
    "Some people\\t Some people like this season best of all, don't they?\n",
    "A few people\\t A few people like this season best of all, don't they?\n",
    "Few people Few\\t people like this season best of all, do they?\n",
    "Not many people\\t Not many people like this season best of all, do they?\n",
    "'''\n",
    "]\n",
    "\n",
    "exercises_list = []\n",
    "\n",
    "for exercise in exercises:\n",
    "\n",
    "    exercise_list = exercise.strip().split('\\n')\n",
    "\n",
    "    my_dict = {\n",
    "        \"title\": \"\",\n",
    "        \"example_sentence\": \"\",\n",
    "        \"lines\": []\n",
    "    }\n",
    "    for i in range(len(exercise_list)):\n",
    "        if i == 0:\n",
    "            my_dict[\"title\"] = exercise_list[i].strip()\n",
    "        elif i == 1:\n",
    "            my_dict[\"example_sentence\"] = exercise_list[i].strip()\n",
    "        else:\n",
    "            word, sentence = exercise_list[i].split('\\t')\n",
    "            my_dict[\"lines\"].append({\"word\":word, \"sentence\": sentence})\n",
    "    \n",
    "    exercises_list.append(my_dict)\n",
    "\n",
    "\n",
    "with open(\"data/exercise.json\", 'w', encoding='utf-8') as file:\n",
    "    json.dump(exercises_list, file, indent=4)"
   ]
  },
  {
   "cell_type": "code",
   "execution_count": 167,
   "metadata": {},
   "outputs": [],
   "source": [
    "\n",
    "output = [\n",
    "    {\n",
    "        \"chapter\": chapter.strip(),\n",
    "        \"conversations\": conversations_list,\n",
    "        \"exercises\": exercises_list\n",
    "    }\n",
    "]\n",
    "\n",
    "with open(\"data/output.json\", 'w', encoding='utf-8') as file:\n",
    "    json.dump(output, file, indent=4)"
   ]
  },
  {
   "cell_type": "code",
   "execution_count": 168,
   "metadata": {},
   "outputs": [
    {
     "name": "stdout",
     "output_type": "stream",
     "text": [
      "29\n",
      "30\n"
     ]
    }
   ],
   "source": [
    "file_name = \"english_conversation_practice.json\"\n",
    "with open(r\"C:\\ZMyCodes\\english_conversation_practice_flet_app\\src\\assets\\english_conversation_practice.json\", 'r', encoding='utf-8') as file:\n",
    "    english_conversation_practice_list = json.load(file)\n",
    "\n",
    "print(len(english_conversation_practice_list))\n",
    "\n",
    "with open(r\"C:\\ZMyCodes\\english_conversation_practice_flet_app\\znehal\\data\\output.json\", 'r', encoding='utf-8') as file:\n",
    "    output_list = json.load(file)\n",
    "\n",
    "english_conversation_practice_list.append(output_list[0])\n",
    "print(len(english_conversation_practice_list))\n",
    "\n",
    "with open(r\"C:\\ZMyCodes\\english_conversation_practice_flet_app\\src\\assets\\english_conversation_practice.json\", 'w', encoding='utf-8') as file:\n",
    "    json.dump(english_conversation_practice_list, file, indent=4)\n",
    "\n"
   ]
  },
  {
   "cell_type": "code",
   "execution_count": null,
   "metadata": {},
   "outputs": [],
   "source": []
  },
  {
   "cell_type": "code",
   "execution_count": null,
   "metadata": {},
   "outputs": [],
   "source": []
  },
  {
   "cell_type": "code",
   "execution_count": null,
   "metadata": {},
   "outputs": [],
   "source": []
  }
 ],
 "metadata": {
  "kernelspec": {
   "display_name": "Python 3",
   "language": "python",
   "name": "python3"
  },
  "language_info": {
   "codemirror_mode": {
    "name": "ipython",
    "version": 3
   },
   "file_extension": ".py",
   "mimetype": "text/x-python",
   "name": "python",
   "nbconvert_exporter": "python",
   "pygments_lexer": "ipython3",
   "version": "3.11.1"
  }
 },
 "nbformat": 4,
 "nbformat_minor": 2
}
