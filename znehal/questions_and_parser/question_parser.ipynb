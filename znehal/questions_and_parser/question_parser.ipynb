{
 "cells": [
  {
   "cell_type": "code",
   "execution_count": null,
   "metadata": {},
   "outputs": [],
   "source": []
  },
  {
   "cell_type": "markdown",
   "metadata": {},
   "source": [
    "# Docker"
   ]
  },
  {
   "cell_type": "code",
   "execution_count": 15,
   "metadata": {},
   "outputs": [
    {
     "name": "stdout",
     "output_type": "stream",
     "text": [
      "263\n",
      "263\n"
     ]
    }
   ],
   "source": [
    "import json\n",
    "\n",
    "file_path = r\"C:\\ZMyCodes\\english_conversation_practice_flet_app\\src\\assets\\regex_python_question_new123.json\"\n",
    "with open(file_path, 'r', encoding='utf-8') as file:\n",
    "    data = json.load(file)\n",
    "\n",
    "print(len(data))\n",
    "\n",
    "\n",
    "question_list = []\n",
    "temp = set()\n",
    "i = 1\n",
    "for question in data:\n",
    "    question[\"QN\"] = str(i)\n",
    "    # for k, v in question['options'].items():\n",
    "    #     if v == question['answer']:\n",
    "    #         question['answer'] = k\n",
    "    #         break\n",
    "    \n",
    "    tt = json.dumps({\"q\":question[\"question\"], \"opt\":question[\"options\"]})\n",
    "    if tt not in temp:\n",
    "        temp.add(tt)\n",
    "        question_list.append(question)\n",
    "        i += 1\n",
    "\n",
    "\n",
    "\n",
    "print(len(question_list))\n",
    "        \n",
    "output_file_path = r\"C:\\ZMyCodes\\english_conversation_practice_flet_app\\src\\assets\\regex_python_question_new.json\"\n",
    "\n",
    "with open(output_file_path, 'w') as output_file:\n",
    "    json.dump(question_list, output_file, indent=4)"
   ]
  },
  {
   "cell_type": "markdown",
   "metadata": {},
   "source": [
    "# Kubernetes"
   ]
  },
  {
   "cell_type": "code",
   "execution_count": 2,
   "metadata": {},
   "outputs": [
    {
     "name": "stdout",
     "output_type": "stream",
     "text": [
      "100\n",
      "61\n"
     ]
    }
   ],
   "source": [
    "import json\n",
    "\n",
    "file_path = r\"C:\\ZMyCodes\\english_conversation_practice_flet_app\\znehal\\kubernetes_question.json\"\n",
    "with open(file_path, 'r') as file:\n",
    "    data = json.load(file)\n",
    "print(len(data))\n",
    "\n",
    "\n",
    "question_list = []\n",
    "temp = set()\n",
    "i = 1\n",
    "for question in data:\n",
    "    question[\"QN\"] = str(i)\n",
    "    question[\"type\"] = \"mcq\"\n",
    "    question['answer'] = question['options'][question['answer']]\n",
    "    tt = json.dumps({\"q\":question[\"question\"], \"opt\":question[\"options\"]})\n",
    "    if tt not in temp:\n",
    "        temp.add(tt)\n",
    "        question_list.append(question)\n",
    "        i += 1\n",
    "    # else:\n",
    "    #     print(question[\"question\"])\n",
    "\n",
    "\n",
    "print(len(question_list))\n",
    "        \n",
    "output_file_path = r\"C:\\ZMyCodes\\english_conversation_practice_flet_app\\src\\assets\\kubernetes_question_new.json\"\n",
    "\n",
    "with open(output_file_path, 'w') as output_file:\n",
    "    json.dump(question_list, output_file, indent=4)"
   ]
  },
  {
   "cell_type": "markdown",
   "metadata": {},
   "source": [
    "# Git"
   ]
  },
  {
   "cell_type": "code",
   "execution_count": 3,
   "metadata": {},
   "outputs": [
    {
     "name": "stdout",
     "output_type": "stream",
     "text": [
      "200\n",
      "107\n"
     ]
    }
   ],
   "source": [
    "import json\n",
    "\n",
    "file_path = r\"C:\\ZMyCodes\\english_conversation_practice_flet_app\\znehal\\git_question.json\"\n",
    "with open(file_path, 'r') as file:\n",
    "    data = json.load(file)\n",
    "print(len(data))\n",
    "\n",
    "\n",
    "question_list = []\n",
    "temp = set()\n",
    "i = 1\n",
    "for question in data:\n",
    "    question[\"QN\"] = str(i)\n",
    "    question[\"type\"] = \"mcq\"\n",
    "    question['answer'] = question['options'][question['answer']]\n",
    "    tt = json.dumps({\"q\":question[\"question\"], \"opt\":question[\"options\"]})\n",
    "    if tt not in temp:\n",
    "        temp.add(tt)\n",
    "        question_list.append(question)\n",
    "        i += 1\n",
    "    # else:\n",
    "    #     print(question[\"question\"])\n",
    "\n",
    "\n",
    "print(len(question_list))\n",
    "        \n",
    "output_file_path = r\"C:\\ZMyCodes\\english_conversation_practice_flet_app\\src\\assets\\git_question_new.json\"\n",
    "\n",
    "with open(output_file_path, 'w') as output_file:\n",
    "    json.dump(question_list, output_file, indent=4)"
   ]
  },
  {
   "cell_type": "markdown",
   "metadata": {},
   "source": [
    "# RegEx Python"
   ]
  },
  {
   "cell_type": "code",
   "execution_count": 5,
   "metadata": {},
   "outputs": [
    {
     "name": "stdout",
     "output_type": "stream",
     "text": [
      "402\n",
      "203\n"
     ]
    }
   ],
   "source": [
    "import json\n",
    "\n",
    "file_path = r\"C:\\ZMyCodes\\english_conversation_practice_flet_app\\znehal\\questions_and_parser\\regex_python_question.json\"\n",
    "with open(file_path, 'r') as file:\n",
    "    data = json.load(file)\n",
    "print(len(data))\n",
    "\n",
    "\n",
    "question_list = []\n",
    "temp = set()\n",
    "i = 1\n",
    "for question in data:\n",
    "    question[\"QN\"] = str(i)\n",
    "    question['answer'] = question['options'][question['answer']]\n",
    "    tt = json.dumps({\"q\":question[\"question\"], \"opt\":question[\"options\"]})\n",
    "    if tt not in temp:\n",
    "        temp.add(tt)\n",
    "        question_list.append(question)\n",
    "        i += 1\n",
    "\n",
    "print(len(question_list))\n",
    "        \n",
    "output_file_path = r\"C:\\ZMyCodes\\english_conversation_practice_flet_app\\src\\assets\\regex_python_question_new.json\"\n",
    "\n",
    "with open(output_file_path, 'w') as output_file:\n",
    "    json.dump(question_list, output_file, indent=4)"
   ]
  },
  {
   "cell_type": "code",
   "execution_count": null,
   "metadata": {},
   "outputs": [
    {
     "name": "stdout",
     "output_type": "stream",
     "text": [
      "202\n"
     ]
    }
   ],
   "source": []
  },
  {
   "cell_type": "code",
   "execution_count": null,
   "metadata": {},
   "outputs": [],
   "source": []
  }
 ],
 "metadata": {
  "kernelspec": {
   "display_name": "Python 3",
   "language": "python",
   "name": "python3"
  },
  "language_info": {
   "codemirror_mode": {
    "name": "ipython",
    "version": 3
   },
   "file_extension": ".py",
   "mimetype": "text/x-python",
   "name": "python",
   "nbconvert_exporter": "python",
   "pygments_lexer": "ipython3",
   "version": "3.11.1"
  }
 },
 "nbformat": 4,
 "nbformat_minor": 2
}
